{
  "nbformat": 4,
  "nbformat_minor": 0,
  "metadata": {
    "colab": {
      "provenance": [],
      "authorship_tag": "ABX9TyP3ZK3cMNeQoQSIcJMydbb3",
      "include_colab_link": true
    },
    "kernelspec": {
      "name": "python3",
      "display_name": "Python 3"
    },
    "language_info": {
      "name": "python"
    }
  },
  "cells": [
    {
      "cell_type": "markdown",
      "metadata": {
        "id": "view-in-github",
        "colab_type": "text"
      },
      "source": [
        "<a href=\"https://colab.research.google.com/github/KhalidSwaid/CloudCourse/blob/main/lab1Answer.ipynb\" target=\"_parent\"><img src=\"https://colab.research.google.com/assets/colab-badge.svg\" alt=\"Open In Colab\"/></a>"
      ]
    },
    {
      "cell_type": "code",
      "source": [
        "from google.colab import drive\n",
        "drive.mount(\"/content/drive\")"
      ],
      "metadata": {
        "colab": {
          "base_uri": "https://localhost:8080/"
        },
        "id": "Xwjz_YGZUYuP",
        "outputId": "0907d014-dd6a-4624-a48b-ec9f48091008"
      },
      "execution_count": 1,
      "outputs": [
        {
          "output_type": "stream",
          "name": "stdout",
          "text": [
            "Mounted at /content/drive\n"
          ]
        }
      ]
    },
    {
      "cell_type": "code",
      "source": [
        "!ls \"/content/drive/My Drive/Colab Notebooks\""
      ],
      "metadata": {
        "colab": {
          "base_uri": "https://localhost:8080/"
        },
        "id": "gFTlrHuDUlWz",
        "outputId": "518700a2-1bd7-4354-a3bd-cf7470f22acd"
      },
      "execution_count": 2,
      "outputs": [
        {
          "output_type": "stream",
          "name": "stdout",
          "text": [
            "lab1Answer.ipynb  lab1.ipynb  students.txt\n"
          ]
        }
      ]
    },
    {
      "cell_type": "code",
      "source": [
        "cd /content/drive/MyDrive\n"
      ],
      "metadata": {
        "colab": {
          "base_uri": "https://localhost:8080/"
        },
        "id": "OEmHNkjZVPYY",
        "outputId": "ff8017cc-ec68-418b-f495-1828c3a36248"
      },
      "execution_count": 3,
      "outputs": [
        {
          "output_type": "stream",
          "name": "stdout",
          "text": [
            "/content/drive/MyDrive\n"
          ]
        }
      ]
    },
    {
      "cell_type": "code",
      "source": [
        "cd /content/drive/MyDrive/Colab Notebooks\n"
      ],
      "metadata": {
        "colab": {
          "base_uri": "https://localhost:8080/"
        },
        "id": "BKntaCM-VSEv",
        "outputId": "4f8c74fd-ea9f-4363-f914-68df268274ed"
      },
      "execution_count": 4,
      "outputs": [
        {
          "output_type": "stream",
          "name": "stdout",
          "text": [
            "/content/drive/MyDrive/Colab Notebooks\n"
          ]
        }
      ]
    },
    {
      "cell_type": "code",
      "source": [
        "with open(\"/content/drive/MyDrive/Colab Notebooks/students.txt\", \"w\") as file:\n",
        "  file.write(\"Khalid Sweid, Khalid.swaid@e.braude.ac.il, Web/Cloud/AI\\nNabi Meri, nabi.meri@e.braude.ac.il, Web/Cloud/AI\\nSafa Kheir, safa.kheir@e.braude.ac.il, Web/Cloud/AI\\nLayan Mdah, layan.mdah@e.braude.ac.il, Web/Cloud/AI\\nRoaa Bader, roaa.bader@e.braude.ac.il, Web/Cloud/AI\\n\")\n",
        "  file.close()"
      ],
      "metadata": {
        "id": "jEzFlE4NVYX4"
      },
      "execution_count": 11,
      "outputs": []
    },
    {
      "cell_type": "code",
      "source": [
        "student = 'Khalid Sweid' #@param [\"Khalid Sweid\", \"Nabi Meri\", \"Safa Kheir\", \"Layan Mdah\", \"Roaa Bader\"]\n",
        "with open(\"/content/drive/MyDrive/Colab Notebooks/students.txt\", \"r\") as file:\n",
        "  lines = file.readlines() #reading file lines\n",
        "\n",
        "  data = {} #creating a dictionary to help us navigate through information\n",
        "  for line in lines:\n",
        "    parts = line.strip().split(', ') #spliting each line\n",
        "    name = parts[0] #save the name\n",
        "    email = parts[1] #save the email\n",
        "    courses = parts[2] #save the courses\n",
        "    data[name] = {\"email\":email, \"courses\":courses} #save for each student its specific values\n",
        "\n",
        "  if student in data:\n",
        "    email = data[student][\"email\"]\n",
        "    courses = data[student][\"courses\"]\n",
        "\n",
        "    print(f\"Student name: {student}, Student email: {email}, Student courses: {courses}\")"
      ],
      "metadata": {
        "colab": {
          "base_uri": "https://localhost:8080/"
        },
        "id": "UVmIfSOfVwsx",
        "outputId": "044ed475-1c09-4b64-b523-f3c6a4c35897"
      },
      "execution_count": 14,
      "outputs": [
        {
          "output_type": "stream",
          "name": "stdout",
          "text": [
            "Student name: Khalid Sweid, Student email: Khalid.swaid@e.braude.ac.il, Student courses: Web/Cloud/AI\n"
          ]
        }
      ]
    },
    {
      "cell_type": "code",
      "source": [],
      "metadata": {
        "id": "mV2L3VwzcFwA"
      },
      "execution_count": 6,
      "outputs": []
    }
  ]
}