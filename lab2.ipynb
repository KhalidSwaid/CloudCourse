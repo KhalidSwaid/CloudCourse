{
  "nbformat": 4,
  "nbformat_minor": 0,
  "metadata": {
    "colab": {
      "provenance": [],
      "authorship_tag": "ABX9TyN0kbdxJ2nYmsKQm8ffXt1y",
      "include_colab_link": true
    },
    "kernelspec": {
      "name": "python3",
      "display_name": "Python 3"
    },
    "language_info": {
      "name": "python"
    },
    "widgets": {
      "application/vnd.jupyter.widget-state+json": {
        "66e7c5ba3190421d9c3c4d69d3983df0": {
          "model_module": "@jupyter-widgets/controls",
          "model_name": "DropdownModel",
          "model_module_version": "1.5.0",
          "state": {
            "_dom_classes": [],
            "_model_module": "@jupyter-widgets/controls",
            "_model_module_version": "1.5.0",
            "_model_name": "DropdownModel",
            "_options_labels": [
              "Khalid Sweid",
              "Nabi Meri",
              "Safa Kheir",
              "Layan Mdah",
              "Roaa Bader"
            ],
            "_view_count": null,
            "_view_module": "@jupyter-widgets/controls",
            "_view_module_version": "1.5.0",
            "_view_name": "DropdownView",
            "description": "Select a student:",
            "description_tooltip": null,
            "disabled": false,
            "index": 0,
            "layout": "IPY_MODEL_e05f743608d046ae9e9c72c70bc31a3d",
            "style": "IPY_MODEL_db1ce6025365452d83fa3a4acb750c99"
          }
        },
        "e05f743608d046ae9e9c72c70bc31a3d": {
          "model_module": "@jupyter-widgets/base",
          "model_name": "LayoutModel",
          "model_module_version": "1.2.0",
          "state": {
            "_model_module": "@jupyter-widgets/base",
            "_model_module_version": "1.2.0",
            "_model_name": "LayoutModel",
            "_view_count": null,
            "_view_module": "@jupyter-widgets/base",
            "_view_module_version": "1.2.0",
            "_view_name": "LayoutView",
            "align_content": null,
            "align_items": null,
            "align_self": null,
            "border": null,
            "bottom": null,
            "display": null,
            "flex": null,
            "flex_flow": null,
            "grid_area": null,
            "grid_auto_columns": null,
            "grid_auto_flow": null,
            "grid_auto_rows": null,
            "grid_column": null,
            "grid_gap": null,
            "grid_row": null,
            "grid_template_areas": null,
            "grid_template_columns": null,
            "grid_template_rows": null,
            "height": null,
            "justify_content": null,
            "justify_items": null,
            "left": null,
            "margin": null,
            "max_height": null,
            "max_width": null,
            "min_height": null,
            "min_width": null,
            "object_fit": null,
            "object_position": null,
            "order": null,
            "overflow": null,
            "overflow_x": null,
            "overflow_y": null,
            "padding": null,
            "right": null,
            "top": null,
            "visibility": null,
            "width": null
          }
        },
        "db1ce6025365452d83fa3a4acb750c99": {
          "model_module": "@jupyter-widgets/controls",
          "model_name": "DescriptionStyleModel",
          "model_module_version": "1.5.0",
          "state": {
            "_model_module": "@jupyter-widgets/controls",
            "_model_module_version": "1.5.0",
            "_model_name": "DescriptionStyleModel",
            "_view_count": null,
            "_view_module": "@jupyter-widgets/base",
            "_view_module_version": "1.2.0",
            "_view_name": "StyleView",
            "description_width": ""
          }
        },
        "664e3e4aafe1402ab03c8fe85f034605": {
          "model_module": "@jupyter-widgets/controls",
          "model_name": "HTMLModel",
          "model_module_version": "1.5.0",
          "state": {
            "_dom_classes": [],
            "_model_module": "@jupyter-widgets/controls",
            "_model_module_version": "1.5.0",
            "_model_name": "HTMLModel",
            "_view_count": null,
            "_view_module": "@jupyter-widgets/controls",
            "_view_module_version": "1.5.0",
            "_view_name": "HTMLView",
            "description": "",
            "description_tooltip": null,
            "layout": "IPY_MODEL_b189f7b555ba422ab6c4cc54ee028de9",
            "placeholder": "​",
            "style": "IPY_MODEL_8733304387c14d789acb051ced8afc2f",
            "value": "<b>Name:</b> Khalid<br><b>Lastname:</b> Sweid<br><b>Mail:</b> khalid.swaid@e.braude.ac.il<br><b>Courses:</b> Web, AI, Cloud<br><b>Favorite Program:</b> Chess<br>"
          }
        },
        "b189f7b555ba422ab6c4cc54ee028de9": {
          "model_module": "@jupyter-widgets/base",
          "model_name": "LayoutModel",
          "model_module_version": "1.2.0",
          "state": {
            "_model_module": "@jupyter-widgets/base",
            "_model_module_version": "1.2.0",
            "_model_name": "LayoutModel",
            "_view_count": null,
            "_view_module": "@jupyter-widgets/base",
            "_view_module_version": "1.2.0",
            "_view_name": "LayoutView",
            "align_content": null,
            "align_items": null,
            "align_self": null,
            "border": null,
            "bottom": null,
            "display": null,
            "flex": null,
            "flex_flow": null,
            "grid_area": null,
            "grid_auto_columns": null,
            "grid_auto_flow": null,
            "grid_auto_rows": null,
            "grid_column": null,
            "grid_gap": null,
            "grid_row": null,
            "grid_template_areas": null,
            "grid_template_columns": null,
            "grid_template_rows": null,
            "height": null,
            "justify_content": null,
            "justify_items": null,
            "left": null,
            "margin": null,
            "max_height": null,
            "max_width": null,
            "min_height": null,
            "min_width": null,
            "object_fit": null,
            "object_position": null,
            "order": null,
            "overflow": null,
            "overflow_x": null,
            "overflow_y": null,
            "padding": null,
            "right": null,
            "top": null,
            "visibility": null,
            "width": null
          }
        },
        "8733304387c14d789acb051ced8afc2f": {
          "model_module": "@jupyter-widgets/controls",
          "model_name": "DescriptionStyleModel",
          "model_module_version": "1.5.0",
          "state": {
            "_model_module": "@jupyter-widgets/controls",
            "_model_module_version": "1.5.0",
            "_model_name": "DescriptionStyleModel",
            "_view_count": null,
            "_view_module": "@jupyter-widgets/base",
            "_view_module_version": "1.2.0",
            "_view_name": "StyleView",
            "description_width": ""
          }
        },
        "15e66d843c6441aaac9f7580883a3ac9": {
          "model_module": "@jupyter-widgets/controls",
          "model_name": "TextModel",
          "model_module_version": "1.5.0",
          "state": {
            "_dom_classes": [],
            "_model_module": "@jupyter-widgets/controls",
            "_model_module_version": "1.5.0",
            "_model_name": "TextModel",
            "_view_count": null,
            "_view_module": "@jupyter-widgets/controls",
            "_view_module_version": "1.5.0",
            "_view_name": "TextView",
            "continuous_update": true,
            "description": "Favorite Program:",
            "description_tooltip": null,
            "disabled": false,
            "layout": "IPY_MODEL_5dfb63443b734ee59d4ec74f84ae0801",
            "placeholder": "Enter new favorite program",
            "style": "IPY_MODEL_ec5a2da23be047318751bb0470a935c1",
            "value": "Chess"
          }
        },
        "5dfb63443b734ee59d4ec74f84ae0801": {
          "model_module": "@jupyter-widgets/base",
          "model_name": "LayoutModel",
          "model_module_version": "1.2.0",
          "state": {
            "_model_module": "@jupyter-widgets/base",
            "_model_module_version": "1.2.0",
            "_model_name": "LayoutModel",
            "_view_count": null,
            "_view_module": "@jupyter-widgets/base",
            "_view_module_version": "1.2.0",
            "_view_name": "LayoutView",
            "align_content": null,
            "align_items": null,
            "align_self": null,
            "border": null,
            "bottom": null,
            "display": null,
            "flex": null,
            "flex_flow": null,
            "grid_area": null,
            "grid_auto_columns": null,
            "grid_auto_flow": null,
            "grid_auto_rows": null,
            "grid_column": null,
            "grid_gap": null,
            "grid_row": null,
            "grid_template_areas": null,
            "grid_template_columns": null,
            "grid_template_rows": null,
            "height": null,
            "justify_content": null,
            "justify_items": null,
            "left": null,
            "margin": null,
            "max_height": null,
            "max_width": null,
            "min_height": null,
            "min_width": null,
            "object_fit": null,
            "object_position": null,
            "order": null,
            "overflow": null,
            "overflow_x": null,
            "overflow_y": null,
            "padding": null,
            "right": null,
            "top": null,
            "visibility": null,
            "width": null
          }
        },
        "ec5a2da23be047318751bb0470a935c1": {
          "model_module": "@jupyter-widgets/controls",
          "model_name": "DescriptionStyleModel",
          "model_module_version": "1.5.0",
          "state": {
            "_model_module": "@jupyter-widgets/controls",
            "_model_module_version": "1.5.0",
            "_model_name": "DescriptionStyleModel",
            "_view_count": null,
            "_view_module": "@jupyter-widgets/base",
            "_view_module_version": "1.2.0",
            "_view_name": "StyleView",
            "description_width": ""
          }
        },
        "731271a690804d499296d26767d5ca72": {
          "model_module": "@jupyter-widgets/controls",
          "model_name": "ButtonModel",
          "model_module_version": "1.5.0",
          "state": {
            "_dom_classes": [],
            "_model_module": "@jupyter-widgets/controls",
            "_model_module_version": "1.5.0",
            "_model_name": "ButtonModel",
            "_view_count": null,
            "_view_module": "@jupyter-widgets/controls",
            "_view_module_version": "1.5.0",
            "_view_name": "ButtonView",
            "button_style": "",
            "description": "Update Program",
            "disabled": false,
            "icon": "",
            "layout": "IPY_MODEL_0b67a6210027404fbcfa2fbb26971846",
            "style": "IPY_MODEL_14522160b3b64f0cb9da0e13c4209c55",
            "tooltip": ""
          }
        },
        "0b67a6210027404fbcfa2fbb26971846": {
          "model_module": "@jupyter-widgets/base",
          "model_name": "LayoutModel",
          "model_module_version": "1.2.0",
          "state": {
            "_model_module": "@jupyter-widgets/base",
            "_model_module_version": "1.2.0",
            "_model_name": "LayoutModel",
            "_view_count": null,
            "_view_module": "@jupyter-widgets/base",
            "_view_module_version": "1.2.0",
            "_view_name": "LayoutView",
            "align_content": null,
            "align_items": null,
            "align_self": null,
            "border": null,
            "bottom": null,
            "display": null,
            "flex": null,
            "flex_flow": null,
            "grid_area": null,
            "grid_auto_columns": null,
            "grid_auto_flow": null,
            "grid_auto_rows": null,
            "grid_column": null,
            "grid_gap": null,
            "grid_row": null,
            "grid_template_areas": null,
            "grid_template_columns": null,
            "grid_template_rows": null,
            "height": null,
            "justify_content": null,
            "justify_items": null,
            "left": null,
            "margin": null,
            "max_height": null,
            "max_width": null,
            "min_height": null,
            "min_width": null,
            "object_fit": null,
            "object_position": null,
            "order": null,
            "overflow": null,
            "overflow_x": null,
            "overflow_y": null,
            "padding": null,
            "right": null,
            "top": null,
            "visibility": null,
            "width": null
          }
        },
        "14522160b3b64f0cb9da0e13c4209c55": {
          "model_module": "@jupyter-widgets/controls",
          "model_name": "ButtonStyleModel",
          "model_module_version": "1.5.0",
          "state": {
            "_model_module": "@jupyter-widgets/controls",
            "_model_module_version": "1.5.0",
            "_model_name": "ButtonStyleModel",
            "_view_count": null,
            "_view_module": "@jupyter-widgets/base",
            "_view_module_version": "1.2.0",
            "_view_name": "StyleView",
            "button_color": null,
            "font_weight": ""
          }
        }
      }
    }
  },
  "cells": [
    {
      "cell_type": "markdown",
      "metadata": {
        "id": "view-in-github",
        "colab_type": "text"
      },
      "source": [
        "<a href=\"https://colab.research.google.com/github/KhalidSwaid/CloudCourse/blob/lab2/lab2.ipynb\" target=\"_parent\"><img src=\"https://colab.research.google.com/assets/colab-badge.svg\" alt=\"Open In Colab\"/></a>"
      ]
    },
    {
      "cell_type": "code",
      "execution_count": 1,
      "metadata": {
        "id": "xGYqgaAFrKg_"
      },
      "outputs": [],
      "source": [
        "from google.colab import drive"
      ]
    },
    {
      "cell_type": "code",
      "source": [
        "drive.mount('/content/drive')"
      ],
      "metadata": {
        "colab": {
          "base_uri": "https://localhost:8080/"
        },
        "id": "eoFyTVqjrvoO",
        "outputId": "20d67bad-f8b8-4a7a-e6b8-9054e8ab1e62"
      },
      "execution_count": 2,
      "outputs": [
        {
          "output_type": "stream",
          "name": "stdout",
          "text": [
            "Mounted at /content/drive\n"
          ]
        }
      ]
    },
    {
      "cell_type": "code",
      "source": [
        "cd /content/drive/My Drive/Colab Notebooks"
      ],
      "metadata": {
        "colab": {
          "base_uri": "https://localhost:8080/"
        },
        "id": "ryCSWcnPr423",
        "outputId": "cc65f371-ef2f-4799-f6b1-f11cee9e0b51"
      },
      "execution_count": 3,
      "outputs": [
        {
          "output_type": "stream",
          "name": "stdout",
          "text": [
            "/content/drive/My Drive/Colab Notebooks\n"
          ]
        }
      ]
    },
    {
      "cell_type": "code",
      "source": [
        "import json"
      ],
      "metadata": {
        "id": "FTFNtujXsHct"
      },
      "execution_count": 5,
      "outputs": []
    },
    {
      "cell_type": "code",
      "source": [
        "json_data = [{\n",
        "    \"name\":\"Khalid\",\n",
        "    \"lastname\" : \"Sweid\",\n",
        "    \"mail\" : \"khalid.swaid@e.braude.ac.il\",\n",
        "    \"courses\" : [\"Web\", \"AI\", \"Cloud\"]\n",
        "    },\n",
        "    {\n",
        "    \"name\":\"Nabi\",\n",
        "    \"lastname\" : \"Meri\",\n",
        "    \"mail\" : \"nabi.meri@e.braude.ac.il\",\n",
        "    \"courses\" : [\"Web\", \"AI\", \"Cloud\"]\n",
        "    },\n",
        "    {\n",
        "    \"name\":\"Safa\",\n",
        "    \"lastname\" : \"Kheir\",\n",
        "    \"mail\" : \"safa.kheir@e.braude.ac.il\",\n",
        "    \"courses\" : [\"Web\", \"AI\", \"Cloud\"]\n",
        "    },\n",
        "    {\n",
        "    \"name\":\"Layan\",\n",
        "    \"lastname\" : \"Mdah\",\n",
        "    \"mail\" : \"layan.mdah@e.braude.ac.il\",\n",
        "    \"courses\" : [\"Web\", \"AI\", \"Cloud\"]\n",
        "    },\n",
        "    {\n",
        "    \"name\":\"Roaa\",\n",
        "    \"lastname\" : \"Bader\",\n",
        "    \"mail\" : \"roaa.bader@e.braude.ac.il\",\n",
        "    \"courses\" : [\"Web\", \"AI\", \"Cloud\"]\n",
        "    }]"
      ],
      "metadata": {
        "id": "y3k_FZqzuiVM"
      },
      "execution_count": 7,
      "outputs": []
    },
    {
      "cell_type": "code",
      "source": [
        "with open(\"/content/drive/My Drive/Colab Notebooks/students.json\", \"w\") as file:\n",
        "  json.dump(json_data, file)"
      ],
      "metadata": {
        "id": "nIERB0uJvkSN"
      },
      "execution_count": 8,
      "outputs": []
    },
    {
      "cell_type": "code",
      "source": [
        "from IPython.display import display, HTML\n",
        "import ipywidgets as widgets"
      ],
      "metadata": {
        "id": "ly1BhDjA1G7i"
      },
      "execution_count": 9,
      "outputs": []
    },
    {
      "cell_type": "code",
      "source": [
        "student_dropdown = widgets.Dropdown(\n",
        "    options=[(f\"{student['name']} {student['lastname']}\", student) for student in json_data],\n",
        "    description='Select a student:'\n",
        ")\n",
        "\n",
        "details_text = widgets.HTML(value='')\n",
        "\n",
        "favorite_program_textbox = widgets.Text(\n",
        "    description='Favorite Program:',\n",
        "    placeholder='Enter new favorite program'\n",
        ")\n",
        "\n",
        "update_button = widgets.Button(description='Update Program')\n",
        "\n",
        "\n",
        "def update_details(selected_student):\n",
        "    details_html = f\"<b>Name:</b> {selected_student['name']}<br>\"\n",
        "    details_html += f\"<b>Lastname:</b> {selected_student['lastname']}<br>\"\n",
        "    details_html += f\"<b>Mail:</b> {selected_student['mail']}<br>\"\n",
        "    details_html += f\"<b>Courses:</b> {', '.join(selected_student['courses'])}<br>\"\n",
        "    details_html += f\"<b>Favorite Program:</b> {selected_student.get('favorite_program', 'N/A')}<br>\"\n",
        "    details_text.value = details_html\n",
        "\n",
        "\n",
        "def update_program(change):\n",
        "    selected_student = student_dropdown.value\n",
        "    new_favorite_program = favorite_program_textbox.value\n",
        "    selected_student['favorite_program'] = new_favorite_program\n",
        "\n",
        "    # Update the JSON file with the modified data\n",
        "    with open(\"/content/drive/My Drive/Colab Notebooks/students.json\", \"w\") as file:\n",
        "        json.dump(json_data, file)\n",
        "\n",
        "    update_details(selected_student)\n",
        "\n",
        "# Registering the update function with the dropdown's observe method\n",
        "student_dropdown.observe(lambda change: update_details(change.new), names='value')\n",
        "\n",
        "update_button.on_click(update_program)\n",
        "\n",
        "display(student_dropdown)\n",
        "display(details_text)\n",
        "display(favorite_program_textbox)\n",
        "display(update_button)"
      ],
      "metadata": {
        "colab": {
          "base_uri": "https://localhost:8080/",
          "height": 253,
          "referenced_widgets": [
            "66e7c5ba3190421d9c3c4d69d3983df0",
            "e05f743608d046ae9e9c72c70bc31a3d",
            "db1ce6025365452d83fa3a4acb750c99",
            "664e3e4aafe1402ab03c8fe85f034605",
            "b189f7b555ba422ab6c4cc54ee028de9",
            "8733304387c14d789acb051ced8afc2f",
            "15e66d843c6441aaac9f7580883a3ac9",
            "5dfb63443b734ee59d4ec74f84ae0801",
            "ec5a2da23be047318751bb0470a935c1",
            "731271a690804d499296d26767d5ca72",
            "0b67a6210027404fbcfa2fbb26971846",
            "14522160b3b64f0cb9da0e13c4209c55"
          ]
        },
        "id": "Lvj8M-Fr1IIQ",
        "outputId": "c0f63870-67fb-4988-94b5-c67e968479d8"
      },
      "execution_count": 18,
      "outputs": [
        {
          "output_type": "display_data",
          "data": {
            "text/plain": [
              "Dropdown(description='Select a student:', options=(('Khalid Sweid', {'name': 'Khalid', 'lastname': 'Sweid', 'm…"
            ],
            "application/vnd.jupyter.widget-view+json": {
              "version_major": 2,
              "version_minor": 0,
              "model_id": "66e7c5ba3190421d9c3c4d69d3983df0"
            }
          },
          "metadata": {}
        },
        {
          "output_type": "display_data",
          "data": {
            "text/plain": [
              "HTML(value='')"
            ],
            "application/vnd.jupyter.widget-view+json": {
              "version_major": 2,
              "version_minor": 0,
              "model_id": "664e3e4aafe1402ab03c8fe85f034605"
            }
          },
          "metadata": {}
        },
        {
          "output_type": "display_data",
          "data": {
            "text/plain": [
              "Text(value='', description='Favorite Program:', placeholder='Enter new favorite program')"
            ],
            "application/vnd.jupyter.widget-view+json": {
              "version_major": 2,
              "version_minor": 0,
              "model_id": "15e66d843c6441aaac9f7580883a3ac9"
            }
          },
          "metadata": {}
        },
        {
          "output_type": "display_data",
          "data": {
            "text/plain": [
              "Button(description='Update Program', style=ButtonStyle())"
            ],
            "application/vnd.jupyter.widget-view+json": {
              "version_major": 2,
              "version_minor": 0,
              "model_id": "731271a690804d499296d26767d5ca72"
            }
          },
          "metadata": {}
        }
      ]
    }
  ]
}