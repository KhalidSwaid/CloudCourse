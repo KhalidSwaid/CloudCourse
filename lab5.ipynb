{
  "nbformat": 4,
  "nbformat_minor": 0,
  "metadata": {
    "colab": {
      "provenance": [],
      "authorship_tag": "ABX9TyMeDvcf574PmVVdLFmrd9aC",
      "include_colab_link": true
    },
    "kernelspec": {
      "name": "python3",
      "display_name": "Python 3"
    },
    "language_info": {
      "name": "python"
    }
  },
  "cells": [
    {
      "cell_type": "markdown",
      "metadata": {
        "id": "view-in-github",
        "colab_type": "text"
      },
      "source": [
        "<a href=\"https://colab.research.google.com/github/KhalidSwaid/CloudCourse/blob/lab5/lab5.ipynb\" target=\"_parent\"><img src=\"https://colab.research.google.com/assets/colab-badge.svg\" alt=\"Open In Colab\"/></a>"
      ]
    },
    {
      "cell_type": "code",
      "source": [
        "!pip install firebase"
      ],
      "metadata": {
        "colab": {
          "base_uri": "https://localhost:8080/"
        },
        "id": "n7QoDQl1RH6K",
        "outputId": "7c65eb4b-a6fa-4750-d4e9-2ad8934b5222"
      },
      "execution_count": 16,
      "outputs": [
        {
          "output_type": "stream",
          "name": "stdout",
          "text": [
            "Requirement already satisfied: firebase in /usr/local/lib/python3.10/dist-packages (4.0.1)\n",
            "Requirement already satisfied: requests in /usr/local/lib/python3.10/dist-packages (from firebase) (2.31.0)\n",
            "Requirement already satisfied: charset-normalizer<4,>=2 in /usr/local/lib/python3.10/dist-packages (from requests->firebase) (3.3.2)\n",
            "Requirement already satisfied: idna<4,>=2.5 in /usr/local/lib/python3.10/dist-packages (from requests->firebase) (3.6)\n",
            "Requirement already satisfied: urllib3<3,>=1.21.1 in /usr/local/lib/python3.10/dist-packages (from requests->firebase) (2.0.7)\n",
            "Requirement already satisfied: certifi>=2017.4.17 in /usr/local/lib/python3.10/dist-packages (from requests->firebase) (2024.2.2)\n"
          ]
        }
      ]
    },
    {
      "cell_type": "code",
      "source": [
        "pip install firebase-admin"
      ],
      "metadata": {
        "colab": {
          "base_uri": "https://localhost:8080/"
        },
        "id": "hBplxc0ARNF8",
        "outputId": "ecbbee2e-8e0a-452d-c5ec-3c888076d50b"
      },
      "execution_count": 17,
      "outputs": [
        {
          "output_type": "stream",
          "name": "stdout",
          "text": [
            "Requirement already satisfied: firebase-admin in /usr/local/lib/python3.10/dist-packages (5.3.0)\n",
            "Requirement already satisfied: cachecontrol>=0.12.6 in /usr/local/lib/python3.10/dist-packages (from firebase-admin) (0.14.0)\n",
            "Requirement already satisfied: google-api-python-client>=1.7.8 in /usr/local/lib/python3.10/dist-packages (from firebase-admin) (2.84.0)\n",
            "Requirement already satisfied: google-cloud-storage>=1.37.1 in /usr/local/lib/python3.10/dist-packages (from firebase-admin) (2.8.0)\n",
            "Requirement already satisfied: google-api-core[grpc]<3.0.0dev,>=1.22.1 in /usr/local/lib/python3.10/dist-packages (from firebase-admin) (2.11.1)\n",
            "Requirement already satisfied: google-cloud-firestore>=2.1.0 in /usr/local/lib/python3.10/dist-packages (from firebase-admin) (2.11.1)\n",
            "Requirement already satisfied: requests>=2.16.0 in /usr/local/lib/python3.10/dist-packages (from cachecontrol>=0.12.6->firebase-admin) (2.31.0)\n",
            "Requirement already satisfied: msgpack<2.0.0,>=0.5.2 in /usr/local/lib/python3.10/dist-packages (from cachecontrol>=0.12.6->firebase-admin) (1.0.7)\n",
            "Requirement already satisfied: googleapis-common-protos<2.0.dev0,>=1.56.2 in /usr/local/lib/python3.10/dist-packages (from google-api-core[grpc]<3.0.0dev,>=1.22.1->firebase-admin) (1.62.0)\n",
            "Requirement already satisfied: protobuf!=3.20.0,!=3.20.1,!=4.21.0,!=4.21.1,!=4.21.2,!=4.21.3,!=4.21.4,!=4.21.5,<5.0.0.dev0,>=3.19.5 in /usr/local/lib/python3.10/dist-packages (from google-api-core[grpc]<3.0.0dev,>=1.22.1->firebase-admin) (3.20.3)\n",
            "Requirement already satisfied: google-auth<3.0.dev0,>=2.14.1 in /usr/local/lib/python3.10/dist-packages (from google-api-core[grpc]<3.0.0dev,>=1.22.1->firebase-admin) (2.27.0)\n",
            "Requirement already satisfied: grpcio<2.0dev,>=1.33.2 in /usr/local/lib/python3.10/dist-packages (from google-api-core[grpc]<3.0.0dev,>=1.22.1->firebase-admin) (1.60.1)\n",
            "Requirement already satisfied: grpcio-status<2.0.dev0,>=1.33.2 in /usr/local/lib/python3.10/dist-packages (from google-api-core[grpc]<3.0.0dev,>=1.22.1->firebase-admin) (1.48.2)\n",
            "Requirement already satisfied: httplib2<1dev,>=0.15.0 in /usr/local/lib/python3.10/dist-packages (from google-api-python-client>=1.7.8->firebase-admin) (0.22.0)\n",
            "Requirement already satisfied: google-auth-httplib2>=0.1.0 in /usr/local/lib/python3.10/dist-packages (from google-api-python-client>=1.7.8->firebase-admin) (0.1.1)\n",
            "Requirement already satisfied: uritemplate<5,>=3.0.1 in /usr/local/lib/python3.10/dist-packages (from google-api-python-client>=1.7.8->firebase-admin) (4.1.1)\n",
            "Requirement already satisfied: google-cloud-core<3.0.0dev,>=1.4.1 in /usr/local/lib/python3.10/dist-packages (from google-cloud-firestore>=2.1.0->firebase-admin) (2.3.3)\n",
            "Requirement already satisfied: proto-plus<2.0.0dev,>=1.22.0 in /usr/local/lib/python3.10/dist-packages (from google-cloud-firestore>=2.1.0->firebase-admin) (1.23.0)\n",
            "Requirement already satisfied: google-resumable-media>=2.3.2 in /usr/local/lib/python3.10/dist-packages (from google-cloud-storage>=1.37.1->firebase-admin) (2.7.0)\n",
            "Requirement already satisfied: cachetools<6.0,>=2.0.0 in /usr/local/lib/python3.10/dist-packages (from google-auth<3.0.dev0,>=2.14.1->google-api-core[grpc]<3.0.0dev,>=1.22.1->firebase-admin) (5.3.2)\n",
            "Requirement already satisfied: pyasn1-modules>=0.2.1 in /usr/local/lib/python3.10/dist-packages (from google-auth<3.0.dev0,>=2.14.1->google-api-core[grpc]<3.0.0dev,>=1.22.1->firebase-admin) (0.3.0)\n",
            "Requirement already satisfied: rsa<5,>=3.1.4 in /usr/local/lib/python3.10/dist-packages (from google-auth<3.0.dev0,>=2.14.1->google-api-core[grpc]<3.0.0dev,>=1.22.1->firebase-admin) (4.9)\n",
            "Requirement already satisfied: google-crc32c<2.0dev,>=1.0 in /usr/local/lib/python3.10/dist-packages (from google-resumable-media>=2.3.2->google-cloud-storage>=1.37.1->firebase-admin) (1.5.0)\n",
            "Requirement already satisfied: pyparsing!=3.0.0,!=3.0.1,!=3.0.2,!=3.0.3,<4,>=2.4.2 in /usr/local/lib/python3.10/dist-packages (from httplib2<1dev,>=0.15.0->google-api-python-client>=1.7.8->firebase-admin) (3.1.1)\n",
            "Requirement already satisfied: charset-normalizer<4,>=2 in /usr/local/lib/python3.10/dist-packages (from requests>=2.16.0->cachecontrol>=0.12.6->firebase-admin) (3.3.2)\n",
            "Requirement already satisfied: idna<4,>=2.5 in /usr/local/lib/python3.10/dist-packages (from requests>=2.16.0->cachecontrol>=0.12.6->firebase-admin) (3.6)\n",
            "Requirement already satisfied: urllib3<3,>=1.21.1 in /usr/local/lib/python3.10/dist-packages (from requests>=2.16.0->cachecontrol>=0.12.6->firebase-admin) (2.0.7)\n",
            "Requirement already satisfied: certifi>=2017.4.17 in /usr/local/lib/python3.10/dist-packages (from requests>=2.16.0->cachecontrol>=0.12.6->firebase-admin) (2024.2.2)\n",
            "Requirement already satisfied: pyasn1<0.6.0,>=0.4.6 in /usr/local/lib/python3.10/dist-packages (from pyasn1-modules>=0.2.1->google-auth<3.0.dev0,>=2.14.1->google-api-core[grpc]<3.0.0dev,>=1.22.1->firebase-admin) (0.5.1)\n"
          ]
        }
      ]
    },
    {
      "cell_type": "code",
      "source": [
        "import json\n",
        "from firebase import firebase\n",
        "FBconn = firebase.FirebaseApplication(\"https://lab5-acba0-default-rtdb.firebaseio.com/\", None) #connecting to the Firebase RealTime Database with no authentication\n",
        "\n",
        "#an array that stores dictionary for each student (to save students info)\n",
        "students = [{'name' : 'Khalid',\n",
        "            'lastname' : \"Sweid\",\n",
        "             'mail' : 'Khalid.swaid@e.braude.ac.il',\n",
        "             'courses' : 'Web,AI,Cloud',\n",
        "             'series' : 'Breaking Bad'}, {'name' : 'Nabi',\n",
        "            'lastname' : \"Mari\",\n",
        "             'mail' : 'nabi.mari@e.braude.ac.il',\n",
        "             'courses' : 'Web,AI,Cloud',\n",
        "             'series' : 'Wallstreet Sharks'}, {'name' : 'Safa',\n",
        "            'lastname' : \"Kheir\",\n",
        "             'mail' : 'safa.kheir@e.braude.ac.il',\n",
        "             'courses' : 'Web,AI,Cloud',\n",
        "             'series' : 'Vikings'}, {'name' : 'Layan',\n",
        "            'lastname' : \"Amer\",\n",
        "             'mail' : 'layan.amer@e.braude.ac.il',\n",
        "             'courses' : 'Web,AI,Cloud',\n",
        "             'series' : 'Peaky Blinders'}]\n",
        "\n",
        "for i in range(len(students)):\n",
        "  result = FBconn.post(\"/Students\", students[i])\n",
        "\n",
        "res = FBconn.get(\"/Students\", None) #get info from DB\n",
        "for key in res:\n",
        "  print(key+\":\\t\", res[key])\n"
      ],
      "metadata": {
        "colab": {
          "base_uri": "https://localhost:8080/"
        },
        "id": "qESFZ3HpRQZJ",
        "outputId": "bada3b12-2d6c-4887-bff3-baec9d4efda0"
      },
      "execution_count": 23,
      "outputs": [
        {
          "output_type": "stream",
          "name": "stdout",
          "text": [
            "-NrBIrfKCPfm1yJSD3Md:\t {'courses': 'Web,AI,Cloud', 'lastname': 'Sweid', 'mail': 'Khalid.swaid@e.braude.ac.il', 'name': 'Khalid', 'series': 'Breaking Bad'}\n",
            "-NrBIrlSbc9pkbkrRVGP:\t {'courses': 'Web,AI,Cloud', 'lastname': 'Mari', 'mail': 'nabi.mari@e.braude.ac.il', 'name': 'Nabi', 'series': 'Wallstreet Sharks'}\n",
            "-NrBIrrYWUb0_4DipRHj:\t {'courses': 'Web,AI,Cloud', 'lastname': 'Kheir', 'mail': 'safa.kheir@e.braude.ac.il', 'name': 'Safa', 'series': 'Vikings'}\n",
            "-NrBIryE52sbD5h-2JZU:\t {'courses': 'Web,AI,Cloud', 'lastname': 'Amer', 'mail': 'layan.amer@e.braude.ac.il', 'name': 'Layan', 'series': 'Peaky Blinders'}\n",
            "-NrBJY72Zfl61tqn56RC:\t {'courses': 'Web,AI,Cloud', 'lastname': 'Sweid', 'mail': 'Khalid.swaid@e.braude.ac.il', 'name': 'Khalid', 'series': 'Breaking Bad'}\n",
            "-NrBJYDLuNJ7aAWP5Lpc:\t {'courses': 'Web,AI,Cloud', 'lastname': 'Mari', 'mail': 'nabi.mari@e.braude.ac.il', 'name': 'Nabi', 'series': 'Wallstreet Sharks'}\n",
            "-NrBJYJSy-DScUuC6xY7:\t {'courses': 'Web,AI,Cloud', 'lastname': 'Kheir', 'mail': 'safa.kheir@e.braude.ac.il', 'name': 'Safa', 'series': 'Vikings'}\n",
            "-NrBJYPXuYpxupxhIQvL:\t {'courses': 'Web,AI,Cloud', 'lastname': 'Amer', 'mail': 'layan.amer@e.braude.ac.il', 'name': 'Layan', 'series': 'Peaky Blinders'}\n"
          ]
        }
      ]
    },
    {
      "cell_type": "code",
      "source": [
        "\n"
      ],
      "metadata": {
        "id": "o8cCCrdfTnAh"
      },
      "execution_count": null,
      "outputs": []
    }
  ]
}